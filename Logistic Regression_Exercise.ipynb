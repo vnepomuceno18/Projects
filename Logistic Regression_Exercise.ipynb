{
 "cells": [
  {
   "cell_type": "markdown",
   "metadata": {
    "id": "cXzmRbRmM8pv"
   },
   "source": [
    "# Problem Set 2\n",
    "\n",
    "The following problem set will revolve around the Pokemon stats dataset.\n",
    "The dataset `data/Pokemon.csv` has **721** rows and **27** columns. Not all columns are needed for the questions to be asked.\n"
   ]
  },
  {
   "cell_type": "code",
   "execution_count": null,
   "metadata": {
    "id": "aWTRjdpQM8p0"
   },
   "outputs": [],
   "source": [
    "%matplotlib inline\n",
    "\n",
    "import matplotlib.pylab as plt\n",
    "import numpy as np\n",
    "import pandas as pd\n",
    "import seaborn as sns\n",
    "import sklearn\n",
    "import warnings\n",
    "\n",
    "from sklearn.preprocessing import StandardScaler\n",
    "\n",
    "warnings.filterwarnings(action=\"ignore\")"
   ]
  },
  {
   "cell_type": "code",
   "execution_count": null,
   "metadata": {
    "id": "_poaW0_iM8p1"
   },
   "outputs": [],
   "source": [
    "df = pd.read_csv(\"data\\Pokemon.csv\")"
   ]
  },
  {
   "cell_type": "code",
   "execution_count": null,
   "metadata": {
    "id": "mKEOIFbgM8p4",
    "outputId": "c17caafb-5f03-42de-bca0-59156c23ed8f"
   },
   "outputs": [
    {
     "data": {
      "text/html": [
       "<div>\n",
       "<style scoped>\n",
       "    .dataframe tbody tr th:only-of-type {\n",
       "        vertical-align: middle;\n",
       "    }\n",
       "\n",
       "    .dataframe tbody tr th {\n",
       "        vertical-align: top;\n",
       "    }\n",
       "\n",
       "    .dataframe thead th {\n",
       "        text-align: right;\n",
       "    }\n",
       "</style>\n",
       "<table border=\"1\" class=\"dataframe\">\n",
       "  <thead>\n",
       "    <tr style=\"text-align: right;\">\n",
       "      <th></th>\n",
       "      <th>Number</th>\n",
       "      <th>Name</th>\n",
       "      <th>Type_1</th>\n",
       "      <th>Type_2</th>\n",
       "      <th>Total</th>\n",
       "      <th>HP</th>\n",
       "      <th>Attack</th>\n",
       "      <th>Defense</th>\n",
       "      <th>Sp_Atk</th>\n",
       "      <th>Sp_Def</th>\n",
       "      <th>...</th>\n",
       "      <th>Color</th>\n",
       "      <th>hasGender</th>\n",
       "      <th>Pr_Male</th>\n",
       "      <th>Egg_Group_1</th>\n",
       "      <th>Egg_Group_2</th>\n",
       "      <th>hasMegaEvolution</th>\n",
       "      <th>Height_m</th>\n",
       "      <th>Weight_kg</th>\n",
       "      <th>Catch_Rate</th>\n",
       "      <th>Body_Style</th>\n",
       "    </tr>\n",
       "  </thead>\n",
       "  <tbody>\n",
       "    <tr>\n",
       "      <th>0</th>\n",
       "      <td>1</td>\n",
       "      <td>Bulbasaur</td>\n",
       "      <td>Grass</td>\n",
       "      <td>Poison</td>\n",
       "      <td>318</td>\n",
       "      <td>45</td>\n",
       "      <td>49</td>\n",
       "      <td>49</td>\n",
       "      <td>65</td>\n",
       "      <td>65</td>\n",
       "      <td>...</td>\n",
       "      <td>Green</td>\n",
       "      <td>True</td>\n",
       "      <td>0.875</td>\n",
       "      <td>Monster</td>\n",
       "      <td>Grass</td>\n",
       "      <td>False</td>\n",
       "      <td>0.71</td>\n",
       "      <td>6.9</td>\n",
       "      <td>45</td>\n",
       "      <td>quadruped</td>\n",
       "    </tr>\n",
       "    <tr>\n",
       "      <th>1</th>\n",
       "      <td>2</td>\n",
       "      <td>Ivysaur</td>\n",
       "      <td>Grass</td>\n",
       "      <td>Poison</td>\n",
       "      <td>405</td>\n",
       "      <td>60</td>\n",
       "      <td>62</td>\n",
       "      <td>63</td>\n",
       "      <td>80</td>\n",
       "      <td>80</td>\n",
       "      <td>...</td>\n",
       "      <td>Green</td>\n",
       "      <td>True</td>\n",
       "      <td>0.875</td>\n",
       "      <td>Monster</td>\n",
       "      <td>Grass</td>\n",
       "      <td>False</td>\n",
       "      <td>0.99</td>\n",
       "      <td>13.0</td>\n",
       "      <td>45</td>\n",
       "      <td>quadruped</td>\n",
       "    </tr>\n",
       "    <tr>\n",
       "      <th>2</th>\n",
       "      <td>3</td>\n",
       "      <td>Venusaur</td>\n",
       "      <td>Grass</td>\n",
       "      <td>Poison</td>\n",
       "      <td>525</td>\n",
       "      <td>80</td>\n",
       "      <td>82</td>\n",
       "      <td>83</td>\n",
       "      <td>100</td>\n",
       "      <td>100</td>\n",
       "      <td>...</td>\n",
       "      <td>Green</td>\n",
       "      <td>True</td>\n",
       "      <td>0.875</td>\n",
       "      <td>Monster</td>\n",
       "      <td>Grass</td>\n",
       "      <td>True</td>\n",
       "      <td>2.01</td>\n",
       "      <td>100.0</td>\n",
       "      <td>45</td>\n",
       "      <td>quadruped</td>\n",
       "    </tr>\n",
       "    <tr>\n",
       "      <th>3</th>\n",
       "      <td>4</td>\n",
       "      <td>Charmander</td>\n",
       "      <td>Fire</td>\n",
       "      <td>NaN</td>\n",
       "      <td>309</td>\n",
       "      <td>39</td>\n",
       "      <td>52</td>\n",
       "      <td>43</td>\n",
       "      <td>60</td>\n",
       "      <td>50</td>\n",
       "      <td>...</td>\n",
       "      <td>Red</td>\n",
       "      <td>True</td>\n",
       "      <td>0.875</td>\n",
       "      <td>Monster</td>\n",
       "      <td>Dragon</td>\n",
       "      <td>False</td>\n",
       "      <td>0.61</td>\n",
       "      <td>8.5</td>\n",
       "      <td>45</td>\n",
       "      <td>bipedal_tailed</td>\n",
       "    </tr>\n",
       "    <tr>\n",
       "      <th>4</th>\n",
       "      <td>5</td>\n",
       "      <td>Charmeleon</td>\n",
       "      <td>Fire</td>\n",
       "      <td>NaN</td>\n",
       "      <td>405</td>\n",
       "      <td>58</td>\n",
       "      <td>64</td>\n",
       "      <td>58</td>\n",
       "      <td>80</td>\n",
       "      <td>65</td>\n",
       "      <td>...</td>\n",
       "      <td>Red</td>\n",
       "      <td>True</td>\n",
       "      <td>0.875</td>\n",
       "      <td>Monster</td>\n",
       "      <td>Dragon</td>\n",
       "      <td>False</td>\n",
       "      <td>1.09</td>\n",
       "      <td>19.0</td>\n",
       "      <td>45</td>\n",
       "      <td>bipedal_tailed</td>\n",
       "    </tr>\n",
       "  </tbody>\n",
       "</table>\n",
       "<p>5 rows × 23 columns</p>\n",
       "</div>"
      ],
      "text/plain": [
       "   Number        Name Type_1  Type_2  Total  HP  Attack  Defense  Sp_Atk  \\\n",
       "0       1   Bulbasaur  Grass  Poison    318  45      49       49      65   \n",
       "1       2     Ivysaur  Grass  Poison    405  60      62       63      80   \n",
       "2       3    Venusaur  Grass  Poison    525  80      82       83     100   \n",
       "3       4  Charmander   Fire     NaN    309  39      52       43      60   \n",
       "4       5  Charmeleon   Fire     NaN    405  58      64       58      80   \n",
       "\n",
       "   Sp_Def       ...        Color  hasGender  Pr_Male Egg_Group_1  Egg_Group_2  \\\n",
       "0      65       ...        Green       True    0.875     Monster        Grass   \n",
       "1      80       ...        Green       True    0.875     Monster        Grass   \n",
       "2     100       ...        Green       True    0.875     Monster        Grass   \n",
       "3      50       ...          Red       True    0.875     Monster       Dragon   \n",
       "4      65       ...          Red       True    0.875     Monster       Dragon   \n",
       "\n",
       "   hasMegaEvolution Height_m Weight_kg  Catch_Rate      Body_Style  \n",
       "0             False     0.71       6.9          45       quadruped  \n",
       "1             False     0.99      13.0          45       quadruped  \n",
       "2              True     2.01     100.0          45       quadruped  \n",
       "3             False     0.61       8.5          45  bipedal_tailed  \n",
       "4             False     1.09      19.0          45  bipedal_tailed  \n",
       "\n",
       "[5 rows x 23 columns]"
      ]
     },
     "execution_count": 4,
     "metadata": {},
     "output_type": "execute_result"
    }
   ],
   "source": [
    "df.head()"
   ]
  },
  {
   "cell_type": "code",
   "execution_count": null,
   "metadata": {
    "id": "UHMyXOifM8p5",
    "outputId": "7d4eb046-bfe3-4a47-dea4-3ecab1719cf5"
   },
   "outputs": [
    {
     "data": {
      "text/plain": [
       "Index(['Number', 'Name', 'Type_1', 'Type_2', 'Total', 'HP', 'Attack',\n",
       "       'Defense', 'Sp_Atk', 'Sp_Def', 'Speed', 'Generation', 'isLegendary',\n",
       "       'Color', 'hasGender', 'Pr_Male', 'Egg_Group_1', 'Egg_Group_2',\n",
       "       'hasMegaEvolution', 'Height_m', 'Weight_kg', 'Catch_Rate',\n",
       "       'Body_Style'],\n",
       "      dtype='object')"
      ]
     },
     "execution_count": 5,
     "metadata": {},
     "output_type": "execute_result"
    }
   ],
   "source": [
    "df.columns"
   ]
  },
  {
   "cell_type": "code",
   "execution_count": null,
   "metadata": {
    "id": "FOxf7-3oM8p6",
    "outputId": "429dbd68-6ecd-4a58-c715-508499016653"
   },
   "outputs": [
    {
     "data": {
      "text/plain": [
       "(721, 23)"
      ]
     },
     "execution_count": 6,
     "metadata": {},
     "output_type": "execute_result"
    }
   ],
   "source": [
    "df.shape"
   ]
  },
  {
   "cell_type": "code",
   "execution_count": null,
   "metadata": {
    "id": "e_Eg6F5VM8p6",
    "outputId": "d37e1e49-7eb0-4bba-cd64-8fe152df4f92"
   },
   "outputs": [
    {
     "data": {
      "text/plain": [
       "Number                int64\n",
       "Name                 object\n",
       "Type_1               object\n",
       "Type_2               object\n",
       "Total                 int64\n",
       "HP                    int64\n",
       "Attack                int64\n",
       "Defense               int64\n",
       "Sp_Atk                int64\n",
       "Sp_Def                int64\n",
       "Speed                 int64\n",
       "Generation            int64\n",
       "isLegendary            bool\n",
       "Color                object\n",
       "hasGender              bool\n",
       "Pr_Male             float64\n",
       "Egg_Group_1          object\n",
       "Egg_Group_2          object\n",
       "hasMegaEvolution       bool\n",
       "Height_m            float64\n",
       "Weight_kg           float64\n",
       "Catch_Rate            int64\n",
       "Body_Style           object\n",
       "dtype: object"
      ]
     },
     "execution_count": 7,
     "metadata": {},
     "output_type": "execute_result"
    }
   ],
   "source": [
    "df.dtypes"
   ]
  },
  {
   "cell_type": "code",
   "execution_count": null,
   "metadata": {
    "id": "-2euosm4M8p7",
    "outputId": "eeb56488-99c0-4644-ffdd-cae214b0b084"
   },
   "outputs": [
    {
     "data": {
      "text/plain": [
       "46"
      ]
     },
     "execution_count": 8,
     "metadata": {},
     "output_type": "execute_result"
    }
   ],
   "source": [
    "len(df[(df['isLegendary'] == True)])"
   ]
  },
  {
   "cell_type": "markdown",
   "metadata": {
    "id": "Z8xlqUPmM8p8"
   },
   "source": [
    "#1 There are 46 Legendary Pokemon"
   ]
  },
  {
   "cell_type": "code",
   "execution_count": null,
   "metadata": {
    "id": "mCUbxL0oM8p8",
    "outputId": "1b1c1af2-26e3-4120-abf3-f794eb8a62cc"
   },
   "outputs": [
    {
     "name": "stdout",
     "output_type": "stream",
     "text": [
      "Pokemon with Max Attack-HP Ratio: Shedinja\n"
     ]
    }
   ],
   "source": [
    "df = df.set_index('Name')\n",
    "df[('attack-HP ratio')] = df[('Attack')]/df[('HP')]\n",
    "print(\"Pokemon with Max Attack-HP Ratio:\",df[('attack-HP ratio')].argmax())"
   ]
  },
  {
   "cell_type": "markdown",
   "metadata": {
    "id": "rfMFiLZ3M8p9"
   },
   "source": [
    "#2 Pokemon with Max Attack-HP Ratio is Shedinja "
   ]
  },
  {
   "cell_type": "code",
   "execution_count": null,
   "metadata": {
    "id": "cl41c_ueM8p9"
   },
   "outputs": [],
   "source": [
    "df[[\"Type_1\"]] = df['Type_1'].str.contains('Fire').astype(bool)"
   ]
  },
  {
   "cell_type": "code",
   "execution_count": null,
   "metadata": {
    "id": "SiUZrSTGM8p9",
    "outputId": "5ac97774-b767-452c-92c7-1ca5a432d1a1"
   },
   "outputs": [
    {
     "data": {
      "text/plain": [
       "Number                int64\n",
       "Type_1                 bool\n",
       "Type_2               object\n",
       "Total                 int64\n",
       "HP                    int64\n",
       "Attack                int64\n",
       "Defense               int64\n",
       "Sp_Atk                int64\n",
       "Sp_Def                int64\n",
       "Speed                 int64\n",
       "Generation            int64\n",
       "isLegendary            bool\n",
       "Color                object\n",
       "hasGender              bool\n",
       "Pr_Male             float64\n",
       "Egg_Group_1          object\n",
       "Egg_Group_2          object\n",
       "hasMegaEvolution       bool\n",
       "Height_m            float64\n",
       "Weight_kg           float64\n",
       "Catch_Rate            int64\n",
       "Body_Style           object\n",
       "attack-HP ratio     float64\n",
       "dtype: object"
      ]
     },
     "execution_count": 11,
     "metadata": {},
     "output_type": "execute_result"
    }
   ],
   "source": [
    "df.dtypes"
   ]
  },
  {
   "cell_type": "code",
   "execution_count": null,
   "metadata": {
    "id": "IanFM6BXM8p-",
    "outputId": "a3216c1d-c717-4b0c-f348-74cdbfc00302"
   },
   "outputs": [
    {
     "data": {
      "text/html": [
       "<div>\n",
       "<style scoped>\n",
       "    .dataframe tbody tr th:only-of-type {\n",
       "        vertical-align: middle;\n",
       "    }\n",
       "\n",
       "    .dataframe tbody tr th {\n",
       "        vertical-align: top;\n",
       "    }\n",
       "\n",
       "    .dataframe thead th {\n",
       "        text-align: right;\n",
       "    }\n",
       "</style>\n",
       "<table border=\"1\" class=\"dataframe\">\n",
       "  <thead>\n",
       "    <tr style=\"text-align: right;\">\n",
       "      <th></th>\n",
       "      <th>Type_1</th>\n",
       "    </tr>\n",
       "    <tr>\n",
       "      <th>Name</th>\n",
       "      <th></th>\n",
       "    </tr>\n",
       "  </thead>\n",
       "  <tbody>\n",
       "    <tr>\n",
       "      <th>Bulbasaur</th>\n",
       "      <td>False</td>\n",
       "    </tr>\n",
       "    <tr>\n",
       "      <th>Ivysaur</th>\n",
       "      <td>False</td>\n",
       "    </tr>\n",
       "    <tr>\n",
       "      <th>Venusaur</th>\n",
       "      <td>False</td>\n",
       "    </tr>\n",
       "    <tr>\n",
       "      <th>Charmander</th>\n",
       "      <td>True</td>\n",
       "    </tr>\n",
       "    <tr>\n",
       "      <th>Charmeleon</th>\n",
       "      <td>True</td>\n",
       "    </tr>\n",
       "    <tr>\n",
       "      <th>Charizard</th>\n",
       "      <td>True</td>\n",
       "    </tr>\n",
       "    <tr>\n",
       "      <th>Squirtle</th>\n",
       "      <td>False</td>\n",
       "    </tr>\n",
       "    <tr>\n",
       "      <th>Wartortle</th>\n",
       "      <td>False</td>\n",
       "    </tr>\n",
       "    <tr>\n",
       "      <th>Blastoise</th>\n",
       "      <td>False</td>\n",
       "    </tr>\n",
       "    <tr>\n",
       "      <th>Caterpie</th>\n",
       "      <td>False</td>\n",
       "    </tr>\n",
       "    <tr>\n",
       "      <th>Metapod</th>\n",
       "      <td>False</td>\n",
       "    </tr>\n",
       "    <tr>\n",
       "      <th>Butterfree</th>\n",
       "      <td>False</td>\n",
       "    </tr>\n",
       "    <tr>\n",
       "      <th>Weedle</th>\n",
       "      <td>False</td>\n",
       "    </tr>\n",
       "    <tr>\n",
       "      <th>Kakuna</th>\n",
       "      <td>False</td>\n",
       "    </tr>\n",
       "    <tr>\n",
       "      <th>Beedrill</th>\n",
       "      <td>False</td>\n",
       "    </tr>\n",
       "    <tr>\n",
       "      <th>Pidgey</th>\n",
       "      <td>False</td>\n",
       "    </tr>\n",
       "    <tr>\n",
       "      <th>Pidgeotto</th>\n",
       "      <td>False</td>\n",
       "    </tr>\n",
       "    <tr>\n",
       "      <th>Pidgeot</th>\n",
       "      <td>False</td>\n",
       "    </tr>\n",
       "    <tr>\n",
       "      <th>Rattata</th>\n",
       "      <td>False</td>\n",
       "    </tr>\n",
       "    <tr>\n",
       "      <th>Raticate</th>\n",
       "      <td>False</td>\n",
       "    </tr>\n",
       "    <tr>\n",
       "      <th>Spearow</th>\n",
       "      <td>False</td>\n",
       "    </tr>\n",
       "    <tr>\n",
       "      <th>Fearow</th>\n",
       "      <td>False</td>\n",
       "    </tr>\n",
       "    <tr>\n",
       "      <th>Ekans</th>\n",
       "      <td>False</td>\n",
       "    </tr>\n",
       "    <tr>\n",
       "      <th>Arbok</th>\n",
       "      <td>False</td>\n",
       "    </tr>\n",
       "    <tr>\n",
       "      <th>Pikachu</th>\n",
       "      <td>False</td>\n",
       "    </tr>\n",
       "    <tr>\n",
       "      <th>Raichu</th>\n",
       "      <td>False</td>\n",
       "    </tr>\n",
       "    <tr>\n",
       "      <th>Sandshrew</th>\n",
       "      <td>False</td>\n",
       "    </tr>\n",
       "    <tr>\n",
       "      <th>Sandslash</th>\n",
       "      <td>False</td>\n",
       "    </tr>\n",
       "    <tr>\n",
       "      <th>Nidoran♀</th>\n",
       "      <td>False</td>\n",
       "    </tr>\n",
       "    <tr>\n",
       "      <th>Nidorina</th>\n",
       "      <td>False</td>\n",
       "    </tr>\n",
       "    <tr>\n",
       "      <th>...</th>\n",
       "      <td>...</td>\n",
       "    </tr>\n",
       "    <tr>\n",
       "      <th>Clauncher</th>\n",
       "      <td>False</td>\n",
       "    </tr>\n",
       "    <tr>\n",
       "      <th>Clawitzer</th>\n",
       "      <td>False</td>\n",
       "    </tr>\n",
       "    <tr>\n",
       "      <th>Helioptile</th>\n",
       "      <td>False</td>\n",
       "    </tr>\n",
       "    <tr>\n",
       "      <th>Heliolisk</th>\n",
       "      <td>False</td>\n",
       "    </tr>\n",
       "    <tr>\n",
       "      <th>Tyrunt</th>\n",
       "      <td>False</td>\n",
       "    </tr>\n",
       "    <tr>\n",
       "      <th>Tyrantrum</th>\n",
       "      <td>False</td>\n",
       "    </tr>\n",
       "    <tr>\n",
       "      <th>Amaura</th>\n",
       "      <td>False</td>\n",
       "    </tr>\n",
       "    <tr>\n",
       "      <th>Aurorus</th>\n",
       "      <td>False</td>\n",
       "    </tr>\n",
       "    <tr>\n",
       "      <th>Sylveon</th>\n",
       "      <td>False</td>\n",
       "    </tr>\n",
       "    <tr>\n",
       "      <th>Hawlucha</th>\n",
       "      <td>False</td>\n",
       "    </tr>\n",
       "    <tr>\n",
       "      <th>Dedenne</th>\n",
       "      <td>False</td>\n",
       "    </tr>\n",
       "    <tr>\n",
       "      <th>Carbink</th>\n",
       "      <td>False</td>\n",
       "    </tr>\n",
       "    <tr>\n",
       "      <th>Goomy</th>\n",
       "      <td>False</td>\n",
       "    </tr>\n",
       "    <tr>\n",
       "      <th>Sliggoo</th>\n",
       "      <td>False</td>\n",
       "    </tr>\n",
       "    <tr>\n",
       "      <th>Goodra</th>\n",
       "      <td>False</td>\n",
       "    </tr>\n",
       "    <tr>\n",
       "      <th>Klefki</th>\n",
       "      <td>False</td>\n",
       "    </tr>\n",
       "    <tr>\n",
       "      <th>Phantump</th>\n",
       "      <td>False</td>\n",
       "    </tr>\n",
       "    <tr>\n",
       "      <th>Trevenant</th>\n",
       "      <td>False</td>\n",
       "    </tr>\n",
       "    <tr>\n",
       "      <th>Pumpkaboo</th>\n",
       "      <td>False</td>\n",
       "    </tr>\n",
       "    <tr>\n",
       "      <th>Gourgeist</th>\n",
       "      <td>False</td>\n",
       "    </tr>\n",
       "    <tr>\n",
       "      <th>Bergmite</th>\n",
       "      <td>False</td>\n",
       "    </tr>\n",
       "    <tr>\n",
       "      <th>Avalugg</th>\n",
       "      <td>False</td>\n",
       "    </tr>\n",
       "    <tr>\n",
       "      <th>Noibat</th>\n",
       "      <td>False</td>\n",
       "    </tr>\n",
       "    <tr>\n",
       "      <th>Noivern</th>\n",
       "      <td>False</td>\n",
       "    </tr>\n",
       "    <tr>\n",
       "      <th>Xerneas</th>\n",
       "      <td>False</td>\n",
       "    </tr>\n",
       "    <tr>\n",
       "      <th>Yveltal</th>\n",
       "      <td>False</td>\n",
       "    </tr>\n",
       "    <tr>\n",
       "      <th>Zygarde</th>\n",
       "      <td>False</td>\n",
       "    </tr>\n",
       "    <tr>\n",
       "      <th>Diancie</th>\n",
       "      <td>False</td>\n",
       "    </tr>\n",
       "    <tr>\n",
       "      <th>Hoopa</th>\n",
       "      <td>False</td>\n",
       "    </tr>\n",
       "    <tr>\n",
       "      <th>Volcanion</th>\n",
       "      <td>True</td>\n",
       "    </tr>\n",
       "  </tbody>\n",
       "</table>\n",
       "<p>721 rows × 1 columns</p>\n",
       "</div>"
      ],
      "text/plain": [
       "            Type_1\n",
       "Name              \n",
       "Bulbasaur    False\n",
       "Ivysaur      False\n",
       "Venusaur     False\n",
       "Charmander    True\n",
       "Charmeleon    True\n",
       "Charizard     True\n",
       "Squirtle     False\n",
       "Wartortle    False\n",
       "Blastoise    False\n",
       "Caterpie     False\n",
       "Metapod      False\n",
       "Butterfree   False\n",
       "Weedle       False\n",
       "Kakuna       False\n",
       "Beedrill     False\n",
       "Pidgey       False\n",
       "Pidgeotto    False\n",
       "Pidgeot      False\n",
       "Rattata      False\n",
       "Raticate     False\n",
       "Spearow      False\n",
       "Fearow       False\n",
       "Ekans        False\n",
       "Arbok        False\n",
       "Pikachu      False\n",
       "Raichu       False\n",
       "Sandshrew    False\n",
       "Sandslash    False\n",
       "Nidoran♀     False\n",
       "Nidorina     False\n",
       "...            ...\n",
       "Clauncher    False\n",
       "Clawitzer    False\n",
       "Helioptile   False\n",
       "Heliolisk    False\n",
       "Tyrunt       False\n",
       "Tyrantrum    False\n",
       "Amaura       False\n",
       "Aurorus      False\n",
       "Sylveon      False\n",
       "Hawlucha     False\n",
       "Dedenne      False\n",
       "Carbink      False\n",
       "Goomy        False\n",
       "Sliggoo      False\n",
       "Goodra       False\n",
       "Klefki       False\n",
       "Phantump     False\n",
       "Trevenant    False\n",
       "Pumpkaboo    False\n",
       "Gourgeist    False\n",
       "Bergmite     False\n",
       "Avalugg      False\n",
       "Noibat       False\n",
       "Noivern      False\n",
       "Xerneas      False\n",
       "Yveltal      False\n",
       "Zygarde      False\n",
       "Diancie      False\n",
       "Hoopa        False\n",
       "Volcanion     True\n",
       "\n",
       "[721 rows x 1 columns]"
      ]
     },
     "execution_count": 12,
     "metadata": {},
     "output_type": "execute_result"
    }
   ],
   "source": [
    "df[[\"Type_1\"]]"
   ]
  },
  {
   "cell_type": "code",
   "execution_count": null,
   "metadata": {
    "id": "hC-5GuieM8p_",
    "outputId": "681d717b-da74-4fee-e4a6-332ca221abc6"
   },
   "outputs": [
    {
     "name": "stdout",
     "output_type": "stream",
     "text": [
      "0.9348127600554785\n"
     ]
    }
   ],
   "source": [
    "from sklearn.linear_model import LogisticRegression\n",
    "from sklearn import metrics\n",
    "\n",
    "X = df[[\"Attack\", \"Defense\", \"Sp_Atk\", \"Sp_Def\", \"Speed\", \"Weight_kg\", \"Height_m\"]]\n",
    "logistic_model = LogisticRegression()\n",
    "logistic_model.fit(X, df[[\"Type_1\"]])\n",
    "predictions = logistic_model.predict(X)\n",
    "accuracy = metrics.accuracy_score(predictions,df[[\"Type_1\"]])\n",
    "print(accuracy)"
   ]
  },
  {
   "cell_type": "code",
   "execution_count": null,
   "metadata": {
    "id": "BoRrM_u6M8p_",
    "outputId": "b2d64549-d5b5-4401-adde-79a1e7bc2010"
   },
   "outputs": [
    {
     "name": "stdout",
     "output_type": "stream",
     "text": [
      "0.7018030513176144\n"
     ]
    }
   ],
   "source": [
    "clf = LogisticRegression(random_state=0, class_weight='balanced')\n",
    "\n",
    "model = clf.fit(X, df[['Type_1']])\n",
    "predictions1 = model.predict(X)\n",
    "accuracy1 = metrics.accuracy_score(predictions1,df[[\"Type_1\"]])\n",
    "print(accuracy1)"
   ]
  },
  {
   "cell_type": "markdown",
   "metadata": {
    "id": "QkFj9rWDM8p_"
   },
   "source": [
    "#3&6 A binary classifier was created with the estimated accuracy of 0.9348"
   ]
  },
  {
   "cell_type": "code",
   "execution_count": null,
   "metadata": {
    "id": "_qlUSUZcM8qA",
    "outputId": "b55bdcee-8cb7-4753-c405-e47ac6f23238"
   },
   "outputs": [
    {
     "data": {
      "text/plain": [
       "<matplotlib.axes._subplots.AxesSubplot at 0x19979e1d518>"
      ]
     },
     "execution_count": 14,
     "metadata": {},
     "output_type": "execute_result"
    },
    {
     "data": {
      "image/png": "[encoded data removed]",
      "text/plain": [
       "<Figure size 1296x576 with 1 Axes>"
      ]
     },
     "metadata": {},
     "output_type": "display_data"
    }
   ],
   "source": [
    "plt.figure(figsize=(18,8))\n",
    "\n",
    "df3 = df[(df[\"Type_1\"] == True)]\n",
    "df3 = df3[[\"Attack\", \"Defense\", \"Sp_Atk\", \"Sp_Def\", \"Speed\", \"Weight_kg\", \"Height_m\"]]\n",
    "sns.boxplot(data = df3)"
   ]
  },
  {
   "cell_type": "markdown",
   "metadata": {
    "id": "LjU_spbDM8qA"
   },
   "source": [
    "#4 Here is the boxplot of the characteristics of fire type pokemon.  "
   ]
  },
  {
   "cell_type": "code",
   "execution_count": null,
   "metadata": {
    "id": "lF4MTmG8M8qA",
    "outputId": "6a1ca9f1-c366-44d0-d653-42dd8dd16169"
   },
   "outputs": [
    {
     "data": {
      "text/html": [
       "<div>\n",
       "<style scoped>\n",
       "    .dataframe tbody tr th:only-of-type {\n",
       "        vertical-align: middle;\n",
       "    }\n",
       "\n",
       "    .dataframe tbody tr th {\n",
       "        vertical-align: top;\n",
       "    }\n",
       "\n",
       "    .dataframe thead th {\n",
       "        text-align: right;\n",
       "    }\n",
       "</style>\n",
       "<table border=\"1\" class=\"dataframe\">\n",
       "  <thead>\n",
       "    <tr style=\"text-align: right;\">\n",
       "      <th></th>\n",
       "      <th>Type_1</th>\n",
       "      <th>pred</th>\n",
       "      <th>prob</th>\n",
       "    </tr>\n",
       "    <tr>\n",
       "      <th>Name</th>\n",
       "      <th></th>\n",
       "      <th></th>\n",
       "      <th></th>\n",
       "    </tr>\n",
       "  </thead>\n",
       "  <tbody>\n",
       "    <tr>\n",
       "      <th>Bulbasaur</th>\n",
       "      <td>False</td>\n",
       "      <td>False</td>\n",
       "      <td>0.068274</td>\n",
       "    </tr>\n",
       "    <tr>\n",
       "      <th>Ivysaur</th>\n",
       "      <td>False</td>\n",
       "      <td>False</td>\n",
       "      <td>0.059723</td>\n",
       "    </tr>\n",
       "    <tr>\n",
       "      <th>Venusaur</th>\n",
       "      <td>False</td>\n",
       "      <td>False</td>\n",
       "      <td>0.052397</td>\n",
       "    </tr>\n",
       "    <tr>\n",
       "      <th>Charmander</th>\n",
       "      <td>True</td>\n",
       "      <td>False</td>\n",
       "      <td>0.083832</td>\n",
       "    </tr>\n",
       "    <tr>\n",
       "      <th>Charmeleon</th>\n",
       "      <td>True</td>\n",
       "      <td>False</td>\n",
       "      <td>0.075077</td>\n",
       "    </tr>\n",
       "  </tbody>\n",
       "</table>\n",
       "</div>"
      ],
      "text/plain": [
       "            Type_1   pred      prob\n",
       "Name                               \n",
       "Bulbasaur    False  False  0.068274\n",
       "Ivysaur      False  False  0.059723\n",
       "Venusaur     False  False  0.052397\n",
       "Charmander    True  False  0.083832\n",
       "Charmeleon    True  False  0.075077"
      ]
     },
     "execution_count": 15,
     "metadata": {},
     "output_type": "execute_result"
    }
   ],
   "source": [
    "df[\"pred\"] = predictions\n",
    "prob =[x[1] for x in logistic_model.predict_proba(X)]\n",
    "\n",
    "df[\"prob\"] = prob\n",
    "selection = df[[\"Type_1\",\"pred\", \"prob\"]]\n",
    "selection.head()"
   ]
  },
  {
   "cell_type": "code",
   "execution_count": null,
   "metadata": {
    "id": "r72hE7-bM8qC"
   },
   "outputs": [],
   "source": []
  }
 ],
 "metadata": {
  "anaconda-cloud": {},
  "colab": {
   "name": "nepomuceno_ps2_cs129.18.ipynb",
   "provenance": []
  },
  "kernelspec": {
   "display_name": "Python 3 (ipykernel)",
   "language": "python",
   "name": "python3"
  },
  "language_info": {
   "codemirror_mode": {
    "name": "ipython",
    "version": 3
   },
   "file_extension": ".py",
   "mimetype": "text/x-python",
   "name": "python",
   "nbconvert_exporter": "python",
   "pygments_lexer": "ipython3",
   "version": "3.9.7"
  }
 },
 "nbformat": 4,
 "nbformat_minor": 1
}
