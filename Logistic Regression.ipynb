{
 "cells": [
  {
   "cell_type": "code",
   "execution_count": null,
   "metadata": {
    "id": "tlaTiJKiMR_j"
   },
   "outputs": [],
   "source": [
    "%matplotlib inline\n",
    "\n",
    "import matplotlib.pylab as plt\n",
    "import numpy as np\n",
    "import pandas as pd\n",
    "import seaborn as sns"
   ]
  },
  {
   "cell_type": "code",
   "execution_count": null,
   "metadata": {
    "id": "a-TmGxPZMR_m"
   },
   "outputs": [],
   "source": [
    "df = pd.read_csv(\"out.csv\")"
   ]
  },
  {
   "cell_type": "code",
   "execution_count": null,
   "metadata": {
    "id": "Hn262YT3MR_m",
    "outputId": "84f8187b-7766-439b-de82-8b126a7dac6f",
    "scrolled": true
   },
   "outputs": [
    {
     "data": {
      "text/html": [
       "<div>\n",
       "<style scoped>\n",
       "    .dataframe tbody tr th:only-of-type {\n",
       "        vertical-align: middle;\n",
       "    }\n",
       "\n",
       "    .dataframe tbody tr th {\n",
       "        vertical-align: top;\n",
       "    }\n",
       "\n",
       "    .dataframe thead th {\n",
       "        text-align: right;\n",
       "    }\n",
       "</style>\n",
       "<table border=\"1\" class=\"dataframe\">\n",
       "  <thead>\n",
       "    <tr style=\"text-align: right;\">\n",
       "      <th></th>\n",
       "      <th>CASEID</th>\n",
       "      <th>V000</th>\n",
       "      <th>V001</th>\n",
       "      <th>V002</th>\n",
       "      <th>V003</th>\n",
       "      <th>V004</th>\n",
       "      <th>V005</th>\n",
       "      <th>V006</th>\n",
       "      <th>V007</th>\n",
       "      <th>V008</th>\n",
       "      <th>...</th>\n",
       "      <th>SPREGOUT_11</th>\n",
       "      <th>SPREGOUT_12</th>\n",
       "      <th>SPREGOUT_13</th>\n",
       "      <th>SPREGOUT_14</th>\n",
       "      <th>SPREGOUT_15</th>\n",
       "      <th>SPREGOUT_16</th>\n",
       "      <th>SPREGOUT_17</th>\n",
       "      <th>SPREGOUT_18</th>\n",
       "      <th>SPREGOUT_19</th>\n",
       "      <th>SPREGOUT_20</th>\n",
       "    </tr>\n",
       "  </thead>\n",
       "  <tbody>\n",
       "    <tr>\n",
       "      <th>0</th>\n",
       "      <td>00010001  2</td>\n",
       "      <td>PH7</td>\n",
       "      <td>1.0</td>\n",
       "      <td>1.0</td>\n",
       "      <td>2.0</td>\n",
       "      <td>1.0</td>\n",
       "      <td>361799.0</td>\n",
       "      <td>8.0</td>\n",
       "      <td>2017.0</td>\n",
       "      <td>1412.0</td>\n",
       "      <td>...</td>\n",
       "      <td>NaN</td>\n",
       "      <td>NaN</td>\n",
       "      <td>NaN</td>\n",
       "      <td>NaN</td>\n",
       "      <td>NaN</td>\n",
       "      <td>NaN</td>\n",
       "      <td>NaN</td>\n",
       "      <td>NaN</td>\n",
       "      <td>NaN</td>\n",
       "      <td>NaN</td>\n",
       "    </tr>\n",
       "    <tr>\n",
       "      <th>1</th>\n",
       "      <td>00010001  7</td>\n",
       "      <td>PH7</td>\n",
       "      <td>1.0</td>\n",
       "      <td>1.0</td>\n",
       "      <td>7.0</td>\n",
       "      <td>1.0</td>\n",
       "      <td>361799.0</td>\n",
       "      <td>8.0</td>\n",
       "      <td>2017.0</td>\n",
       "      <td>1412.0</td>\n",
       "      <td>...</td>\n",
       "      <td>NaN</td>\n",
       "      <td>NaN</td>\n",
       "      <td>NaN</td>\n",
       "      <td>NaN</td>\n",
       "      <td>NaN</td>\n",
       "      <td>NaN</td>\n",
       "      <td>NaN</td>\n",
       "      <td>NaN</td>\n",
       "      <td>NaN</td>\n",
       "      <td>NaN</td>\n",
       "    </tr>\n",
       "    <tr>\n",
       "      <th>2</th>\n",
       "      <td>00010002  4</td>\n",
       "      <td>PH7</td>\n",
       "      <td>1.0</td>\n",
       "      <td>2.0</td>\n",
       "      <td>4.0</td>\n",
       "      <td>1.0</td>\n",
       "      <td>361799.0</td>\n",
       "      <td>8.0</td>\n",
       "      <td>2017.0</td>\n",
       "      <td>1412.0</td>\n",
       "      <td>...</td>\n",
       "      <td>NaN</td>\n",
       "      <td>NaN</td>\n",
       "      <td>NaN</td>\n",
       "      <td>NaN</td>\n",
       "      <td>NaN</td>\n",
       "      <td>NaN</td>\n",
       "      <td>NaN</td>\n",
       "      <td>NaN</td>\n",
       "      <td>NaN</td>\n",
       "      <td>NaN</td>\n",
       "    </tr>\n",
       "    <tr>\n",
       "      <th>3</th>\n",
       "      <td>00010004  2</td>\n",
       "      <td>PH7</td>\n",
       "      <td>1.0</td>\n",
       "      <td>4.0</td>\n",
       "      <td>2.0</td>\n",
       "      <td>1.0</td>\n",
       "      <td>361799.0</td>\n",
       "      <td>8.0</td>\n",
       "      <td>2017.0</td>\n",
       "      <td>1412.0</td>\n",
       "      <td>...</td>\n",
       "      <td>NaN</td>\n",
       "      <td>NaN</td>\n",
       "      <td>NaN</td>\n",
       "      <td>NaN</td>\n",
       "      <td>NaN</td>\n",
       "      <td>NaN</td>\n",
       "      <td>NaN</td>\n",
       "      <td>NaN</td>\n",
       "      <td>NaN</td>\n",
       "      <td>NaN</td>\n",
       "    </tr>\n",
       "    <tr>\n",
       "      <th>4</th>\n",
       "      <td>00010007  2</td>\n",
       "      <td>PH7</td>\n",
       "      <td>1.0</td>\n",
       "      <td>7.0</td>\n",
       "      <td>2.0</td>\n",
       "      <td>1.0</td>\n",
       "      <td>361799.0</td>\n",
       "      <td>8.0</td>\n",
       "      <td>2017.0</td>\n",
       "      <td>1412.0</td>\n",
       "      <td>...</td>\n",
       "      <td>NaN</td>\n",
       "      <td>NaN</td>\n",
       "      <td>NaN</td>\n",
       "      <td>NaN</td>\n",
       "      <td>NaN</td>\n",
       "      <td>NaN</td>\n",
       "      <td>NaN</td>\n",
       "      <td>NaN</td>\n",
       "      <td>NaN</td>\n",
       "      <td>NaN</td>\n",
       "    </tr>\n",
       "  </tbody>\n",
       "</table>\n",
       "<p>5 rows × 5834 columns</p>\n",
       "</div>"
      ],
      "text/plain": [
       "        CASEID V000  V001  V002  V003  V004      V005  V006    V007    V008  \\\n",
       "0  00010001  2  PH7   1.0   1.0   2.0   1.0  361799.0   8.0  2017.0  1412.0   \n",
       "1  00010001  7  PH7   1.0   1.0   7.0   1.0  361799.0   8.0  2017.0  1412.0   \n",
       "2  00010002  4  PH7   1.0   2.0   4.0   1.0  361799.0   8.0  2017.0  1412.0   \n",
       "3  00010004  2  PH7   1.0   4.0   2.0   1.0  361799.0   8.0  2017.0  1412.0   \n",
       "4  00010007  2  PH7   1.0   7.0   2.0   1.0  361799.0   8.0  2017.0  1412.0   \n",
       "\n",
       "      ...       SPREGOUT_11  SPREGOUT_12  SPREGOUT_13  SPREGOUT_14  \\\n",
       "0     ...               NaN          NaN          NaN          NaN   \n",
       "1     ...               NaN          NaN          NaN          NaN   \n",
       "2     ...               NaN          NaN          NaN          NaN   \n",
       "3     ...               NaN          NaN          NaN          NaN   \n",
       "4     ...               NaN          NaN          NaN          NaN   \n",
       "\n",
       "   SPREGOUT_15  SPREGOUT_16  SPREGOUT_17  SPREGOUT_18  SPREGOUT_19  \\\n",
       "0          NaN          NaN          NaN          NaN          NaN   \n",
       "1          NaN          NaN          NaN          NaN          NaN   \n",
       "2          NaN          NaN          NaN          NaN          NaN   \n",
       "3          NaN          NaN          NaN          NaN          NaN   \n",
       "4          NaN          NaN          NaN          NaN          NaN   \n",
       "\n",
       "   SPREGOUT_20  \n",
       "0          NaN  \n",
       "1          NaN  \n",
       "2          NaN  \n",
       "3          NaN  \n",
       "4          NaN  \n",
       "\n",
       "[5 rows x 5834 columns]"
      ]
     },
     "execution_count": 3,
     "metadata": {},
     "output_type": "execute_result"
    }
   ],
   "source": [
    "df.head()"
   ]
  },
  {
   "cell_type": "code",
   "execution_count": null,
   "metadata": {
    "id": "uGlhYIwFMR_n",
    "outputId": "6a473b64-7fa7-4139-fe65-27ef373437c0"
   },
   "outputs": [
    {
     "data": {
      "text/plain": [
       "(25074, 5834)"
      ]
     },
     "execution_count": 4,
     "metadata": {},
     "output_type": "execute_result"
    }
   ],
   "source": [
    "df.shape"
   ]
  },
  {
   "cell_type": "code",
   "execution_count": null,
   "metadata": {
    "id": "naIAEvlsMR_o"
   },
   "outputs": [],
   "source": [
    "df=df[[\"V012\",\"S109\",\"V130\",\"V225\",\"V312\",\"V3A02\",\"V3A06\",\"S812B\",\"V739\",\"V746\",\"V743A\",\"V743B\",\"V745A\",\"V745B\",\"V744A\",\"V850A\",\"V850B\",\"D101A\",\"D110A\",\"D110F\",\"D125\",\"S1229BA\",\"V761\"]]\n",
    "df.columns=['age','education','religion','wantedPregnancy','methodUsed','knowsSideEffects','talkFamilyPlanning','mainReasonNotTo','decideMoney','earnMore','decideHealth','decidePurchase','ownHouse','ownLand','hitWife','canSayNo','canCondom','paranoidHusband','abused','depressed','raped','knowsLaws','useContraceptive']\n",
    "df = df.fillna(-1)\n",
    "df = df[(df.useContraceptive != -1)&(df.useContraceptive != 8)]"
   ]
  },
  {
   "cell_type": "code",
   "execution_count": null,
   "metadata": {
    "id": "5GysX3NvMR_o",
    "outputId": "a87c2d91-0a0a-40e5-9d18-d4e850033b5d"
   },
   "outputs": [
    {
     "data": {
      "text/plain": [
       "(8143, 23)"
      ]
     },
     "execution_count": 6,
     "metadata": {},
     "output_type": "execute_result"
    }
   ],
   "source": [
    "df[(df.methodUsed != 0)].shape"
   ]
  },
  {
   "cell_type": "code",
   "execution_count": null,
   "metadata": {
    "id": "nB-GhwolMR_p",
    "outputId": "41dde205-a8bc-4bfd-99cc-9b5732f3be1c"
   },
   "outputs": [
    {
     "data": {
      "text/plain": [
       "(5900, 23)"
      ]
     },
     "execution_count": 7,
     "metadata": {},
     "output_type": "execute_result"
    }
   ],
   "source": [
    "df[(df.knowsSideEffects != -1)].shape"
   ]
  },
  {
   "cell_type": "code",
   "execution_count": null,
   "metadata": {
    "id": "BucisuqeMR_p",
    "outputId": "fdeea74e-d241-46ad-acdd-3078b903b1e1"
   },
   "outputs": [
    {
     "data": {
      "text/plain": [
       "(4056, 23)"
      ]
     },
     "execution_count": 8,
     "metadata": {},
     "output_type": "execute_result"
    }
   ],
   "source": [
    "df[(df.talkFamilyPlanning != -1)].shape"
   ]
  },
  {
   "cell_type": "code",
   "execution_count": null,
   "metadata": {
    "id": "QvfTdzSaMR_q",
    "outputId": "d623d8dd-1165-4fd2-e563-8db273d4cb49"
   },
   "outputs": [
    {
     "data": {
      "text/plain": [
       "(4446, 23)"
      ]
     },
     "execution_count": 9,
     "metadata": {},
     "output_type": "execute_result"
    }
   ],
   "source": [
    "#11 = not married\n",
    "df[(df.mainReasonNotTo != -1)].shape"
   ]
  },
  {
   "cell_type": "code",
   "execution_count": null,
   "metadata": {
    "id": "GJNQO4r0MR_q",
    "outputId": "5c1f6a96-0751-4fb4-f08c-eb091f47d0c5"
   },
   "outputs": [
    {
     "data": {
      "text/plain": [
       "(6263, 23)"
      ]
     },
     "execution_count": 10,
     "metadata": {},
     "output_type": "execute_result"
    }
   ],
   "source": [
    "df[(df.decideMoney != -1)].shape"
   ]
  },
  {
   "cell_type": "code",
   "execution_count": null,
   "metadata": {
    "id": "vqYgpiP7MR_r",
    "outputId": "50c87c3b-c79f-4678-dccd-1356faef99de"
   },
   "outputs": [
    {
     "data": {
      "text/plain": [
       "(6263, 23)"
      ]
     },
     "execution_count": 11,
     "metadata": {},
     "output_type": "execute_result"
    }
   ],
   "source": [
    "df[(df.earnMore != -1)].shape"
   ]
  },
  {
   "cell_type": "code",
   "execution_count": null,
   "metadata": {
    "id": "pXzgJ4hnMR_r",
    "outputId": "a11d6035-e1d1-4301-b808-3fca3b322caf"
   },
   "outputs": [
    {
     "data": {
      "text/plain": [
       "(1005, 23)"
      ]
     },
     "execution_count": 12,
     "metadata": {},
     "output_type": "execute_result"
    }
   ],
   "source": [
    "df[(df.wantedPregnancy != -1)].shape"
   ]
  },
  {
   "cell_type": "code",
   "execution_count": null,
   "metadata": {
    "id": "aA9v-fFjMR_r",
    "outputId": "6f2ad944-97de-4b09-d238-72f049ffaba1"
   },
   "outputs": [
    {
     "data": {
      "text/plain": [
       "(14649, 23)"
      ]
     },
     "execution_count": 13,
     "metadata": {},
     "output_type": "execute_result"
    }
   ],
   "source": [
    "df[(df.decideHealth != -1)].shape"
   ]
  },
  {
   "cell_type": "code",
   "execution_count": null,
   "metadata": {
    "id": "lH6LKeauMR_s",
    "outputId": "cc78c84a-60d6-4960-f7eb-7e4e17df37fd"
   },
   "outputs": [
    {
     "data": {
      "text/plain": [
       "(14649, 23)"
      ]
     },
     "execution_count": 14,
     "metadata": {},
     "output_type": "execute_result"
    }
   ],
   "source": [
    "df[(df.decidePurchase != -1)].shape"
   ]
  },
  {
   "cell_type": "code",
   "execution_count": null,
   "metadata": {
    "id": "_h3qwthgMR_s",
    "outputId": "bb67842f-4fd9-46c4-f475-14b682883f3b"
   },
   "outputs": [
    {
     "data": {
      "text/plain": [
       "(14649, 23)"
      ]
     },
     "execution_count": 15,
     "metadata": {},
     "output_type": "execute_result"
    }
   ],
   "source": [
    "df[(df.canSayNo != -1)].shape"
   ]
  },
  {
   "cell_type": "code",
   "execution_count": null,
   "metadata": {
    "id": "WKnjCQwsMR_s",
    "outputId": "3db452cb-0441-4ac5-bab6-128edc6d5ccd"
   },
   "outputs": [
    {
     "data": {
      "text/plain": [
       "(14649, 23)"
      ]
     },
     "execution_count": 16,
     "metadata": {},
     "output_type": "execute_result"
    }
   ],
   "source": [
    "df[(df.canCondom != -1)].shape"
   ]
  },
  {
   "cell_type": "code",
   "execution_count": null,
   "metadata": {
    "id": "Ek0F-ycBMR_s",
    "outputId": "eb6c8852-d021-421a-9e2d-f218fb7c8991"
   },
   "outputs": [
    {
     "data": {
      "text/plain": [
       "(1459, 23)"
      ]
     },
     "execution_count": 17,
     "metadata": {},
     "output_type": "execute_result"
    }
   ],
   "source": [
    "df[(df.abused != -1)].shape"
   ]
  },
  {
   "cell_type": "code",
   "execution_count": null,
   "metadata": {
    "id": "QHelD8eKMR_t",
    "outputId": "bd06c4e6-175e-4e3b-8520-ef7ddcdeb7bb"
   },
   "outputs": [
    {
     "data": {
      "text/plain": [
       "(1459, 23)"
      ]
     },
     "execution_count": 18,
     "metadata": {},
     "output_type": "execute_result"
    }
   ],
   "source": [
    "df[(df.depressed != -1)].shape"
   ]
  },
  {
   "cell_type": "code",
   "execution_count": null,
   "metadata": {
    "id": "Y1QAQ69pMR_t",
    "outputId": "dc001ccc-53aa-4f26-c0c5-1d66503b6b03"
   },
   "outputs": [
    {
     "data": {
      "text/plain": [
       "(15396, 23)"
      ]
     },
     "execution_count": 19,
     "metadata": {},
     "output_type": "execute_result"
    }
   ],
   "source": [
    "df[(df.useContraceptive != -1)].shape"
   ]
  },
  {
   "cell_type": "code",
   "execution_count": null,
   "metadata": {
    "id": "ZpiwJM-mMR_t",
    "outputId": "d5a720b4-da96-479e-f8cc-88728f7fb1f9"
   },
   "outputs": [
    {
     "data": {
      "text/plain": [
       "(15396, 23)"
      ]
     },
     "execution_count": 20,
     "metadata": {},
     "output_type": "execute_result"
    }
   ],
   "source": [
    "df.shape"
   ]
  },
  {
   "cell_type": "code",
   "execution_count": null,
   "metadata": {
    "id": "Ys4P2glYMR_u"
   },
   "outputs": [],
   "source": [
    "df=df[['age','education','religion','wantedPregnancy','methodUsed','knowsSideEffects','talkFamilyPlanning','mainReasonNotTo','decideMoney','earnMore','decideHealth','decidePurchase','ownHouse','ownLand','hitWife','canSayNo','canCondom','paranoidHusband','abused','depressed','raped','knowsLaws','useContraceptive']]"
   ]
  },
  {
   "cell_type": "code",
   "execution_count": null,
   "metadata": {
    "id": "7UvnWMLSMR_u",
    "outputId": "5e4cb9ca-0aee-4167-f2de-b914b3a1af36"
   },
   "outputs": [
    {
     "data": {
      "text/plain": [
       "<matplotlib.axes._subplots.AxesSubplot at 0x220447084a8>"
      ]
     },
     "execution_count": 22,
     "metadata": {},
     "output_type": "execute_result"
    },
    {
     "data": {
      "image/png": "[encoded data removed]",
      "text/plain": [
       "<Figure size 432x288 with 2 Axes>"
      ]
     },
     "metadata": {},
     "output_type": "display_data"
    }
   ],
   "source": [
    "#create a heatmap to determine higher correlations\n",
    "sns.heatmap(df[['age','education','religion','wantedPregnancy','methodUsed','knowsSideEffects','talkFamilyPlanning','mainReasonNotTo','decideMoney','earnMore','decideHealth','decidePurchase','ownHouse','ownLand','hitWife','canSayNo','canCondom','paranoidHusband','abused','depressed','raped','knowsLaws','useContraceptive']].corr())"
   ]
  },
  {
   "cell_type": "code",
   "execution_count": null,
   "metadata": {
    "id": "yshe_sbDMR_u"
   },
   "outputs": [],
   "source": [
    "from sklearn.linear_model import LogisticRegression\n",
    "from sklearn import metrics\n",
    "from sklearn.preprocessing import StandardScaler\n",
    "\n",
    "#create a logistic model that determines if a woman would use contraceptives \n",
    "X = df[['age','education','ownLand','methodUsed','knowsSideEffects','talkFamilyPlanning','decideHealth','decidePurchase','canSayNo','canCondom','paranoidHusband','abused','depressed','raped','knowsLaws']]\n",
    "y = df[\"useContraceptive\"] ==1\n",
    "scaler = StandardScaler()\n",
    "X_std = scaler.fit_transform(X)\n",
    "\n",
    "\n",
    "#train a logistic regression with weighted classes\n",
    "logistic_model = LogisticRegression(random_state=0, class_weight='balanced')\n",
    "logistic_model.fit(X, df[\"useContraceptive\"])\n",
    "predictions = logistic_model.predict(X)\n",
    "df[\"pred\"] = predictions"
   ]
  },
  {
   "cell_type": "code",
   "execution_count": null,
   "metadata": {
    "id": "dYtuXj71MR_v",
    "outputId": "b4322932-30f2-497c-9583-1b18cf0469f2"
   },
   "outputs": [
    {
     "data": {
      "text/html": [
       "<div>\n",
       "<style scoped>\n",
       "    .dataframe tbody tr th:only-of-type {\n",
       "        vertical-align: middle;\n",
       "    }\n",
       "\n",
       "    .dataframe tbody tr th {\n",
       "        vertical-align: top;\n",
       "    }\n",
       "\n",
       "    .dataframe thead th {\n",
       "        text-align: right;\n",
       "    }\n",
       "</style>\n",
       "<table border=\"1\" class=\"dataframe\">\n",
       "  <thead>\n",
       "    <tr style=\"text-align: right;\">\n",
       "      <th></th>\n",
       "      <th>prob</th>\n",
       "      <th>pred</th>\n",
       "      <th>useContraceptive</th>\n",
       "    </tr>\n",
       "  </thead>\n",
       "  <tbody>\n",
       "    <tr>\n",
       "      <th>0</th>\n",
       "      <td>0.836509</td>\n",
       "      <td>1.0</td>\n",
       "      <td>0.0</td>\n",
       "    </tr>\n",
       "    <tr>\n",
       "      <th>2</th>\n",
       "      <td>0.397786</td>\n",
       "      <td>0.0</td>\n",
       "      <td>0.0</td>\n",
       "    </tr>\n",
       "    <tr>\n",
       "      <th>4</th>\n",
       "      <td>0.124636</td>\n",
       "      <td>0.0</td>\n",
       "      <td>0.0</td>\n",
       "    </tr>\n",
       "    <tr>\n",
       "      <th>5</th>\n",
       "      <td>0.046997</td>\n",
       "      <td>0.0</td>\n",
       "      <td>0.0</td>\n",
       "    </tr>\n",
       "    <tr>\n",
       "      <th>6</th>\n",
       "      <td>0.042869</td>\n",
       "      <td>0.0</td>\n",
       "      <td>0.0</td>\n",
       "    </tr>\n",
       "    <tr>\n",
       "      <th>7</th>\n",
       "      <td>0.019589</td>\n",
       "      <td>0.0</td>\n",
       "      <td>0.0</td>\n",
       "    </tr>\n",
       "    <tr>\n",
       "      <th>10</th>\n",
       "      <td>0.741030</td>\n",
       "      <td>1.0</td>\n",
       "      <td>0.0</td>\n",
       "    </tr>\n",
       "    <tr>\n",
       "      <th>11</th>\n",
       "      <td>0.290109</td>\n",
       "      <td>0.0</td>\n",
       "      <td>0.0</td>\n",
       "    </tr>\n",
       "    <tr>\n",
       "      <th>14</th>\n",
       "      <td>0.233692</td>\n",
       "      <td>0.0</td>\n",
       "      <td>0.0</td>\n",
       "    </tr>\n",
       "    <tr>\n",
       "      <th>15</th>\n",
       "      <td>0.442588</td>\n",
       "      <td>0.0</td>\n",
       "      <td>0.0</td>\n",
       "    </tr>\n",
       "    <tr>\n",
       "      <th>17</th>\n",
       "      <td>0.486360</td>\n",
       "      <td>0.0</td>\n",
       "      <td>0.0</td>\n",
       "    </tr>\n",
       "    <tr>\n",
       "      <th>18</th>\n",
       "      <td>0.262975</td>\n",
       "      <td>0.0</td>\n",
       "      <td>0.0</td>\n",
       "    </tr>\n",
       "    <tr>\n",
       "      <th>20</th>\n",
       "      <td>0.508434</td>\n",
       "      <td>1.0</td>\n",
       "      <td>1.0</td>\n",
       "    </tr>\n",
       "    <tr>\n",
       "      <th>21</th>\n",
       "      <td>0.305371</td>\n",
       "      <td>0.0</td>\n",
       "      <td>0.0</td>\n",
       "    </tr>\n",
       "    <tr>\n",
       "      <th>23</th>\n",
       "      <td>0.040792</td>\n",
       "      <td>0.0</td>\n",
       "      <td>0.0</td>\n",
       "    </tr>\n",
       "    <tr>\n",
       "      <th>27</th>\n",
       "      <td>0.260685</td>\n",
       "      <td>0.0</td>\n",
       "      <td>0.0</td>\n",
       "    </tr>\n",
       "    <tr>\n",
       "      <th>29</th>\n",
       "      <td>0.330417</td>\n",
       "      <td>0.0</td>\n",
       "      <td>0.0</td>\n",
       "    </tr>\n",
       "    <tr>\n",
       "      <th>30</th>\n",
       "      <td>0.253419</td>\n",
       "      <td>0.0</td>\n",
       "      <td>0.0</td>\n",
       "    </tr>\n",
       "    <tr>\n",
       "      <th>33</th>\n",
       "      <td>0.452053</td>\n",
       "      <td>0.0</td>\n",
       "      <td>0.0</td>\n",
       "    </tr>\n",
       "    <tr>\n",
       "      <th>36</th>\n",
       "      <td>0.272317</td>\n",
       "      <td>0.0</td>\n",
       "      <td>0.0</td>\n",
       "    </tr>\n",
       "    <tr>\n",
       "      <th>39</th>\n",
       "      <td>0.173355</td>\n",
       "      <td>0.0</td>\n",
       "      <td>0.0</td>\n",
       "    </tr>\n",
       "    <tr>\n",
       "      <th>42</th>\n",
       "      <td>0.398647</td>\n",
       "      <td>0.0</td>\n",
       "      <td>0.0</td>\n",
       "    </tr>\n",
       "    <tr>\n",
       "      <th>43</th>\n",
       "      <td>0.062850</td>\n",
       "      <td>0.0</td>\n",
       "      <td>0.0</td>\n",
       "    </tr>\n",
       "    <tr>\n",
       "      <th>44</th>\n",
       "      <td>0.086939</td>\n",
       "      <td>0.0</td>\n",
       "      <td>0.0</td>\n",
       "    </tr>\n",
       "    <tr>\n",
       "      <th>47</th>\n",
       "      <td>0.438241</td>\n",
       "      <td>0.0</td>\n",
       "      <td>0.0</td>\n",
       "    </tr>\n",
       "    <tr>\n",
       "      <th>48</th>\n",
       "      <td>0.049345</td>\n",
       "      <td>0.0</td>\n",
       "      <td>0.0</td>\n",
       "    </tr>\n",
       "    <tr>\n",
       "      <th>49</th>\n",
       "      <td>0.086521</td>\n",
       "      <td>0.0</td>\n",
       "      <td>0.0</td>\n",
       "    </tr>\n",
       "    <tr>\n",
       "      <th>50</th>\n",
       "      <td>0.476421</td>\n",
       "      <td>0.0</td>\n",
       "      <td>0.0</td>\n",
       "    </tr>\n",
       "    <tr>\n",
       "      <th>51</th>\n",
       "      <td>0.341525</td>\n",
       "      <td>0.0</td>\n",
       "      <td>0.0</td>\n",
       "    </tr>\n",
       "    <tr>\n",
       "      <th>52</th>\n",
       "      <td>0.263921</td>\n",
       "      <td>0.0</td>\n",
       "      <td>0.0</td>\n",
       "    </tr>\n",
       "    <tr>\n",
       "      <th>...</th>\n",
       "      <td>...</td>\n",
       "      <td>...</td>\n",
       "      <td>...</td>\n",
       "    </tr>\n",
       "    <tr>\n",
       "      <th>25041</th>\n",
       "      <td>0.332742</td>\n",
       "      <td>0.0</td>\n",
       "      <td>0.0</td>\n",
       "    </tr>\n",
       "    <tr>\n",
       "      <th>25042</th>\n",
       "      <td>0.306170</td>\n",
       "      <td>0.0</td>\n",
       "      <td>0.0</td>\n",
       "    </tr>\n",
       "    <tr>\n",
       "      <th>25044</th>\n",
       "      <td>0.396348</td>\n",
       "      <td>0.0</td>\n",
       "      <td>0.0</td>\n",
       "    </tr>\n",
       "    <tr>\n",
       "      <th>25045</th>\n",
       "      <td>0.823415</td>\n",
       "      <td>1.0</td>\n",
       "      <td>0.0</td>\n",
       "    </tr>\n",
       "    <tr>\n",
       "      <th>25046</th>\n",
       "      <td>0.759988</td>\n",
       "      <td>1.0</td>\n",
       "      <td>0.0</td>\n",
       "    </tr>\n",
       "    <tr>\n",
       "      <th>25047</th>\n",
       "      <td>0.572110</td>\n",
       "      <td>1.0</td>\n",
       "      <td>0.0</td>\n",
       "    </tr>\n",
       "    <tr>\n",
       "      <th>25048</th>\n",
       "      <td>0.069920</td>\n",
       "      <td>0.0</td>\n",
       "      <td>0.0</td>\n",
       "    </tr>\n",
       "    <tr>\n",
       "      <th>25049</th>\n",
       "      <td>0.089206</td>\n",
       "      <td>0.0</td>\n",
       "      <td>0.0</td>\n",
       "    </tr>\n",
       "    <tr>\n",
       "      <th>25052</th>\n",
       "      <td>0.077542</td>\n",
       "      <td>0.0</td>\n",
       "      <td>0.0</td>\n",
       "    </tr>\n",
       "    <tr>\n",
       "      <th>25053</th>\n",
       "      <td>0.765108</td>\n",
       "      <td>1.0</td>\n",
       "      <td>0.0</td>\n",
       "    </tr>\n",
       "    <tr>\n",
       "      <th>25054</th>\n",
       "      <td>0.093528</td>\n",
       "      <td>0.0</td>\n",
       "      <td>0.0</td>\n",
       "    </tr>\n",
       "    <tr>\n",
       "      <th>25055</th>\n",
       "      <td>0.551627</td>\n",
       "      <td>1.0</td>\n",
       "      <td>0.0</td>\n",
       "    </tr>\n",
       "    <tr>\n",
       "      <th>25056</th>\n",
       "      <td>0.110693</td>\n",
       "      <td>0.0</td>\n",
       "      <td>0.0</td>\n",
       "    </tr>\n",
       "    <tr>\n",
       "      <th>25057</th>\n",
       "      <td>0.060776</td>\n",
       "      <td>0.0</td>\n",
       "      <td>0.0</td>\n",
       "    </tr>\n",
       "    <tr>\n",
       "      <th>25058</th>\n",
       "      <td>0.078651</td>\n",
       "      <td>0.0</td>\n",
       "      <td>0.0</td>\n",
       "    </tr>\n",
       "    <tr>\n",
       "      <th>25059</th>\n",
       "      <td>0.207354</td>\n",
       "      <td>0.0</td>\n",
       "      <td>0.0</td>\n",
       "    </tr>\n",
       "    <tr>\n",
       "      <th>25060</th>\n",
       "      <td>0.109266</td>\n",
       "      <td>0.0</td>\n",
       "      <td>0.0</td>\n",
       "    </tr>\n",
       "    <tr>\n",
       "      <th>25061</th>\n",
       "      <td>0.104734</td>\n",
       "      <td>0.0</td>\n",
       "      <td>0.0</td>\n",
       "    </tr>\n",
       "    <tr>\n",
       "      <th>25062</th>\n",
       "      <td>0.054648</td>\n",
       "      <td>0.0</td>\n",
       "      <td>0.0</td>\n",
       "    </tr>\n",
       "    <tr>\n",
       "      <th>25063</th>\n",
       "      <td>0.021888</td>\n",
       "      <td>0.0</td>\n",
       "      <td>0.0</td>\n",
       "    </tr>\n",
       "    <tr>\n",
       "      <th>25064</th>\n",
       "      <td>0.081043</td>\n",
       "      <td>0.0</td>\n",
       "      <td>0.0</td>\n",
       "    </tr>\n",
       "    <tr>\n",
       "      <th>25065</th>\n",
       "      <td>0.298313</td>\n",
       "      <td>0.0</td>\n",
       "      <td>0.0</td>\n",
       "    </tr>\n",
       "    <tr>\n",
       "      <th>25066</th>\n",
       "      <td>0.052100</td>\n",
       "      <td>0.0</td>\n",
       "      <td>0.0</td>\n",
       "    </tr>\n",
       "    <tr>\n",
       "      <th>25067</th>\n",
       "      <td>0.354026</td>\n",
       "      <td>0.0</td>\n",
       "      <td>0.0</td>\n",
       "    </tr>\n",
       "    <tr>\n",
       "      <th>25068</th>\n",
       "      <td>0.055807</td>\n",
       "      <td>0.0</td>\n",
       "      <td>0.0</td>\n",
       "    </tr>\n",
       "    <tr>\n",
       "      <th>25069</th>\n",
       "      <td>0.056497</td>\n",
       "      <td>0.0</td>\n",
       "      <td>0.0</td>\n",
       "    </tr>\n",
       "    <tr>\n",
       "      <th>25070</th>\n",
       "      <td>0.297422</td>\n",
       "      <td>0.0</td>\n",
       "      <td>0.0</td>\n",
       "    </tr>\n",
       "    <tr>\n",
       "      <th>25071</th>\n",
       "      <td>0.216892</td>\n",
       "      <td>0.0</td>\n",
       "      <td>0.0</td>\n",
       "    </tr>\n",
       "    <tr>\n",
       "      <th>25072</th>\n",
       "      <td>0.297146</td>\n",
       "      <td>0.0</td>\n",
       "      <td>0.0</td>\n",
       "    </tr>\n",
       "    <tr>\n",
       "      <th>25073</th>\n",
       "      <td>0.149854</td>\n",
       "      <td>0.0</td>\n",
       "      <td>0.0</td>\n",
       "    </tr>\n",
       "  </tbody>\n",
       "</table>\n",
       "<p>15396 rows × 3 columns</p>\n",
       "</div>"
      ],
      "text/plain": [
       "           prob  pred  useContraceptive\n",
       "0      0.836509   1.0               0.0\n",
       "2      0.397786   0.0               0.0\n",
       "4      0.124636   0.0               0.0\n",
       "5      0.046997   0.0               0.0\n",
       "6      0.042869   0.0               0.0\n",
       "7      0.019589   0.0               0.0\n",
       "10     0.741030   1.0               0.0\n",
       "11     0.290109   0.0               0.0\n",
       "14     0.233692   0.0               0.0\n",
       "15     0.442588   0.0               0.0\n",
       "17     0.486360   0.0               0.0\n",
       "18     0.262975   0.0               0.0\n",
       "20     0.508434   1.0               1.0\n",
       "21     0.305371   0.0               0.0\n",
       "23     0.040792   0.0               0.0\n",
       "27     0.260685   0.0               0.0\n",
       "29     0.330417   0.0               0.0\n",
       "30     0.253419   0.0               0.0\n",
       "33     0.452053   0.0               0.0\n",
       "36     0.272317   0.0               0.0\n",
       "39     0.173355   0.0               0.0\n",
       "42     0.398647   0.0               0.0\n",
       "43     0.062850   0.0               0.0\n",
       "44     0.086939   0.0               0.0\n",
       "47     0.438241   0.0               0.0\n",
       "48     0.049345   0.0               0.0\n",
       "49     0.086521   0.0               0.0\n",
       "50     0.476421   0.0               0.0\n",
       "51     0.341525   0.0               0.0\n",
       "52     0.263921   0.0               0.0\n",
       "...         ...   ...               ...\n",
       "25041  0.332742   0.0               0.0\n",
       "25042  0.306170   0.0               0.0\n",
       "25044  0.396348   0.0               0.0\n",
       "25045  0.823415   1.0               0.0\n",
       "25046  0.759988   1.0               0.0\n",
       "25047  0.572110   1.0               0.0\n",
       "25048  0.069920   0.0               0.0\n",
       "25049  0.089206   0.0               0.0\n",
       "25052  0.077542   0.0               0.0\n",
       "25053  0.765108   1.0               0.0\n",
       "25054  0.093528   0.0               0.0\n",
       "25055  0.551627   1.0               0.0\n",
       "25056  0.110693   0.0               0.0\n",
       "25057  0.060776   0.0               0.0\n",
       "25058  0.078651   0.0               0.0\n",
       "25059  0.207354   0.0               0.0\n",
       "25060  0.109266   0.0               0.0\n",
       "25061  0.104734   0.0               0.0\n",
       "25062  0.054648   0.0               0.0\n",
       "25063  0.021888   0.0               0.0\n",
       "25064  0.081043   0.0               0.0\n",
       "25065  0.298313   0.0               0.0\n",
       "25066  0.052100   0.0               0.0\n",
       "25067  0.354026   0.0               0.0\n",
       "25068  0.055807   0.0               0.0\n",
       "25069  0.056497   0.0               0.0\n",
       "25070  0.297422   0.0               0.0\n",
       "25071  0.216892   0.0               0.0\n",
       "25072  0.297146   0.0               0.0\n",
       "25073  0.149854   0.0               0.0\n",
       "\n",
       "[15396 rows x 3 columns]"
      ]
     },
     "execution_count": 33,
     "metadata": {},
     "output_type": "execute_result"
    }
   ],
   "source": [
    "prob =[x[1] for x in logistic_model.predict_proba(X)]\n",
    "\n",
    "#how likely a woman will be using contraceptives\n",
    "df[\"prob\"] = prob\n",
    "df[[\"prob\",\"pred\",\"useContraceptive\"]]"
   ]
  },
  {
   "cell_type": "code",
   "execution_count": null,
   "metadata": {
    "id": "1Lmn2dTnMR_v",
    "outputId": "3465ab80-80d4-44e1-b573-ccbecaa5e4cc"
   },
   "outputs": [
    {
     "name": "stdout",
     "output_type": "stream",
     "text": [
      "0.7941673161860223\n"
     ]
    }
   ],
   "source": [
    "accuracy = metrics.accuracy_score(predictions,df[\"useContraceptive\"])\n",
    "print(accuracy)"
   ]
  },
  {
   "cell_type": "code",
   "execution_count": null,
   "metadata": {
    "id": "bv2wr9RuMR_v",
    "outputId": "f3c7c6bc-294b-47a5-979f-fdfe987a5ef9"
   },
   "outputs": [
    {
     "name": "stdout",
     "output_type": "stream",
     "text": [
      "334 women will actually use contraceptives.\n",
      "258 of these are correctly predicted to use contraceptives.\n",
      "15062 women will actually not use contraceptives.\n",
      "11969 of these are correctly predicted to not use contraceptives.\n"
     ]
    }
   ],
   "source": [
    "#from the dataframe, get the number of rows where useContraceptive==1\n",
    "uc = df.loc[df['useContraceptive']==1].shape[0]\n",
    "nuc = df.loc[df['useContraceptive']==0].shape[0]\n",
    "#from the dataframe, get the number of rows \n",
    "\n",
    "#from the dataframe, get the number of correct predictions\n",
    "puc = df.loc[(df['useContraceptive']==1)&(df['pred']==1)].shape[0]\n",
    "pnuc = df.loc[(df['useContraceptive']==0)&(df['pred']==0)].shape[0]\n",
    "\n",
    "print(uc, \"women will actually use contraceptives.\")\n",
    "print(puc,\"of these are correctly predicted to use contraceptives.\")\n",
    "print(nuc,\"women will actually not use contraceptives.\")\n",
    "print(pnuc,\"of these are correctly predicted to not use contraceptives.\")"
   ]
  },
  {
   "cell_type": "code",
   "execution_count": null,
   "metadata": {
    "id": "5BkP4poYMR_v",
    "outputId": "7f0ccca2-dd4a-459f-9e86-098ba73c4618"
   },
   "outputs": [
    {
     "data": {
      "text/plain": [
       "array([[-0.02059535,  0.01536557, -0.03959132, -0.02828106, -0.67516389,\n",
       "         1.33687266, -0.0064335 , -0.2231623 , -0.04230329, -0.20454745,\n",
       "        -0.08039423,  0.76742794, -0.91969266,  0.08750184, -0.01436687]])"
      ]
     },
     "execution_count": 36,
     "metadata": {},
     "output_type": "execute_result"
    }
   ],
   "source": [
    "logistic_model.coef_"
   ]
  },
  {
   "cell_type": "code",
   "execution_count": null,
   "metadata": {
    "id": "w0G0LO4uMR_v"
   },
   "outputs": [],
   "source": [
    "from sklearn.model_selection import train_test_split\n",
    "X_train, X_test, Y_train, Y_test = train_test_split(X, \n",
    "                   df[\"useContraceptive\"], \n",
    "                   test_size=0.7,  \n",
    "                   train_size=0.3,    \n",
    "                   random_state=42)"
   ]
  },
  {
   "cell_type": "code",
   "execution_count": null,
   "metadata": {
    "id": "61ShQ4rKMR_w"
   },
   "outputs": [],
   "source": [
    "logistic_model = LogisticRegression()\n",
    "logistic_model.fit(X_train, Y_train)\n",
    "pred_train = logistic_model.predict(X_train)\n",
    "pred_test =  logistic_model.predict(X_test)\n",
    "train_accuracy = metrics.accuracy_score(pred_train,Y_train)\n",
    "test_accuracy = metrics.accuracy_score(pred_test,Y_test)\n"
   ]
  },
  {
   "cell_type": "code",
   "execution_count": null,
   "metadata": {
    "id": "2-BzKiCIMR_w",
    "outputId": "d6bf4052-ff1c-42e9-c237-44ee42e6f75f"
   },
   "outputs": [
    {
     "data": {
      "text/plain": [
       "0.9766132524902555"
      ]
     },
     "execution_count": 39,
     "metadata": {},
     "output_type": "execute_result"
    }
   ],
   "source": [
    "train_accuracy"
   ]
  },
  {
   "cell_type": "code",
   "execution_count": null,
   "metadata": {
    "id": "5mvIrYRMMR_w",
    "outputId": "116d6d37-40a7-4b30-dc1f-6c0656f883ec"
   },
   "outputs": [
    {
     "data": {
      "text/plain": [
       "0.9782891074410837"
      ]
     },
     "execution_count": 40,
     "metadata": {},
     "output_type": "execute_result"
    }
   ],
   "source": [
    "test_accuracy"
   ]
  },
  {
   "cell_type": "code",
   "execution_count": null,
   "metadata": {
    "id": "kotzVmGhMR_w"
   },
   "outputs": [],
   "source": []
  }
 ],
 "metadata": {
  "colab": {
   "name": "Project (1).ipynb",
   "provenance": []
  },
  "kernelspec": {
   "display_name": "Python 3 (ipykernel)",
   "language": "python",
   "name": "python3"
  },
  "language_info": {
   "codemirror_mode": {
    "name": "ipython",
    "version": 3
   },
   "file_extension": ".py",
   "mimetype": "text/x-python",
   "name": "python",
   "nbconvert_exporter": "python",
   "pygments_lexer": "ipython3",
   "version": "3.9.7"
  }
 },
 "nbformat": 4,
 "nbformat_minor": 1
}
